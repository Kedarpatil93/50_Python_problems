{
 "cells": [
  {
   "cell_type": "markdown",
   "id": "5de84511",
   "metadata": {},
   "source": [
    "# 50 Best Problems to Practice Python 🐍\n",
    "\n",
    "This notebook contains a collection of 50 Python practice problems, organized to help you improve your understanding of basic and intermediate Python concepts. Each problem comes with a solution in Python.\n",
    "\n",
    "---"
   ]
  },
  {
   "cell_type": "markdown",
   "id": "af6f3514",
   "metadata": {},
   "source": [
    "## 📚 Table of Contents\n",
    "\n",
    "(Links will be added later)\n"
   ]
  },
  {
   "cell_type": "markdown",
   "id": "4896b3b9",
   "metadata": {},
   "source": [
    "### Problem 1"
   ]
  },
  {
   "cell_type": "code",
   "execution_count": null,
   "metadata": {
    "id": "BfDSobo_YfTC"
   },
   "outputs": [],
   "source": []
  },
  {
   "cell_type": "markdown",
   "metadata": {
    "id": "HSPUuOfgY4dW"
   },
   "source": [
    "Write a code to find the minimum among three given numbers"
   ]
  },
  {
   "cell_type": "markdown",
   "id": "0c653e89",
   "metadata": {},
   "source": [
    "### Problem 2"
   ]
  },
  {
   "cell_type": "code",
   "execution_count": null,
   "metadata": {
    "id": "cKNfW-jTZDvt"
   },
   "outputs": [],
   "source": [
    "L=[]\n",
    "for i in range(1,4):\n",
    "  x=float(input('input {}th number: '.format(i)))\n",
    "  L.append(x)\n",
    "print(\"Mininum number is {}\".format(min(L)))"
   ]
  },
  {
   "cell_type": "markdown",
   "metadata": {
    "id": "pl9FpW3SdA6V"
   },
   "source": [
    "Write a code to check whether a given number is a palindrome"
   ]
  },
  {
   "cell_type": "markdown",
   "id": "a6005c75",
   "metadata": {},
   "source": [
    "### Problem 3"
   ]
  },
  {
   "cell_type": "code",
   "execution_count": null,
   "metadata": {
    "id": "hqjJyGkfZXFo"
   },
   "outputs": [],
   "source": [
    "x= input('enter a number : ')\n",
    "m=0\n",
    "L=list(x)\n",
    "for i in range(len(L)//2+1):\n",
    "  if int(L[i]) == int(L[-1-i]):\n",
    "    None\n",
    "  else:\n",
    "    m=1\n",
    "    break\n",
    "if m==1:\n",
    "  print('number is not palindrome')\n",
    "else:\n",
    "  print('number is palindrome')\n"
   ]
  },
  {
   "cell_type": "markdown",
   "id": "1ca346f5",
   "metadata": {},
   "source": [
    "### Problem 4"
   ]
  },
  {
   "cell_type": "code",
   "execution_count": null,
   "metadata": {
    "id": "tdmar44rkDeC"
   },
   "outputs": [],
   "source": [
    "#Another version\n",
    "x= input('enter a number / letter : ')\n",
    "if x == x[::-1]:\n",
    "  print('palindrome')\n",
    "else:\n",
    "  print('Not palindrome')\n"
   ]
  },
  {
   "cell_type": "markdown",
   "metadata": {
    "id": "Lem66-ijm1Ct"
   },
   "source": [
    "3. Write a code to find the sum of numbers divisible by 4.The code must allow the user to accept a number and add it to the sum if it is divisible by 4. It should continue accepting numbers as long as the user wants to provide an input and should display the final sum"
   ]
  },
  {
   "cell_type": "markdown",
   "id": "c63b973d",
   "metadata": {},
   "source": [
    "### Problem 5"
   ]
  },
  {
   "cell_type": "code",
   "execution_count": null,
   "metadata": {
    "id": "v5e4UwfGZULf"
   },
   "outputs": [],
   "source": [
    "L=[]\n",
    "\n",
    "x=int(input('enter a number :'))\n",
    "\n",
    "while True:\n",
    "  if x % 4 == 0:\n",
    "    L.append(x)\n",
    "    print(\"sum of numbers :\",sum(L))\n",
    "  else:\n",
    "    break\n",
    "  x = int(input('enter another number :'))\n"
   ]
  },
  {
   "cell_type": "markdown",
   "metadata": {
    "id": "DfihcBRbI297"
   },
   "source": [
    "A three digit number is said to be an “Armstrong number” if the sum of the third power of its individual digits is equal to the number itself.Write a program to check whether a number is armstrong or not."
   ]
  },
  {
   "cell_type": "markdown",
   "id": "eb6fa612",
   "metadata": {},
   "source": [
    "### Problem 6"
   ]
  },
  {
   "cell_type": "code",
   "execution_count": null,
   "metadata": {
    "id": "Ox54gQ-keH9h"
   },
   "outputs": [],
   "source": [
    "x=input(\"Enter 3 digit number :\")\n",
    "sum=0\n",
    "for i in x:\n",
    "  sum+=int(i)**3\n",
    "print('NUmber is Armstrong' if sum==int(x) else 'NUmber is not Armstrong')\n"
   ]
  },
  {
   "cell_type": "markdown",
   "metadata": {
    "id": "4gUMKZFGL_Xm"
   },
   "source": [
    "JIT University offering degree courses to students has decided to provide scholarship based on the following details:\n",
    "Branch of study\n",
    "Score (%)\n",
    "Scholarship %\n",
    "Remarks\n",
    "Arts\n",
    "Score is at least 90\n",
    "50\n",
    "The student is eligible only for one scholarship% even if both the score conditions are valid for the given branch of study. In such cases, students are eligible for the highest scholarship% applicable among the two.\n",
    "Arts\n",
    "Score is an odd number\n",
    "5\n",
    "Engineering\n",
    "Score is more than 85\n",
    "50\n",
    "Engineering\n",
    "Score is divisible by 7\n",
    "5\n",
    "\n",
    "If there are 500 students who have joined the university, write a code to calculate and display the final fees to be paid by each student.\n",
    "You may accept the branch of study, score and course fee as inputs for each student and calculate the final fees to be paid by each student based on formulae given below:\n",
    "Scholarship amount=course fee * (scholarship%)\n",
    "Final fee= course fee - scholarship amount\n"
   ]
  },
  {
   "cell_type": "markdown",
   "id": "06662278",
   "metadata": {},
   "source": [
    "### Problem 7"
   ]
  },
  {
   "cell_type": "code",
   "execution_count": null,
   "metadata": {
    "id": "k-SsGaogJHSF"
   },
   "outputs": [],
   "source": [
    " def final_fees(branch,score,fees):\n",
    "  if branch == 'Arts':\n",
    "    if score >=90 and score % 2 == 1:\n",
    "      final_fees = 0.5 * fees\n",
    "    elif score >=90 and score%2 ==0 :\n",
    "      final_fees = 0.5 * fees\n",
    "    elif score%2 == 1:\n",
    "      final_fees = 0.95 * fees\n",
    "    else:\n",
    "      final_fees = fees\n",
    "  else:\n",
    "    if score > 85 and score % 7 == 0 :\n",
    "      final_fees = 0.5 * fees\n",
    "    elif score > 85 and score % 7 == 1 :\n",
    "      final_fees = 0.5 * fees\n",
    "    elif score % 7 == 0:\n",
    "      final_fees = 0.95 * fees\n",
    "    else:\n",
    "      final_fees = fees\n",
    "    return final_fees\n",
    "\n",
    "print(final_fees('Arts',91,80000))"
   ]
  },
  {
   "cell_type": "markdown",
   "metadata": {
    "id": "Y_kEYrMHsk6i"
   },
   "source": [
    "The flight ticket rates for a round-trip (Mumbai->Dubai) were as follows:\n",
    "Rate per Adult: Rs. 37550.0\n",
    "Rate per Child: 1/3rd of the rate per adult\n",
    "Service Tax: 7% of the ticket amount (including all passengers)\n",
    "As it was a holiday season, the airline also offered a 10% discount on the final ticket cost (after inclusion of the service tax).\n",
    "Find and display the total ticket cost for a group which had adults and children.\n"
   ]
  },
  {
   "cell_type": "markdown",
   "id": "c7338a08",
   "metadata": {},
   "source": [
    "### Problem 8"
   ]
  },
  {
   "cell_type": "code",
   "execution_count": null,
   "metadata": {
    "id": "OCNlAH1qSs12"
   },
   "outputs": [],
   "source": [
    "def Final_ticket_cost (N_adults=0,N_childern=0):\n",
    "  adult_ticket_cost = 37550\n",
    "  child_ticket_cost = 1/3 * adult_ticket_cost\n",
    "  Total_cost = N_adults * adult_ticket_cost + N_childern * child_ticket_cost\n",
    "  Total_cost_after_tax = 1.07 * Total_cost\n",
    "  Final_cost = 0.9 * Total_cost_after_tax\n",
    "  return Final_cost\n",
    "\n",
    "print(Final_ticket_cost(3,1))\n",
    "\n"
   ]
  },
  {
   "cell_type": "markdown",
   "metadata": {
    "id": "d4tjbe6-vVS7"
   },
   "source": [
    "Write a python program that displays a message as follows for a given number:\n",
    "If it is a multiple of three, display \"Zip\"\n",
    "If it is a multiple of five, display \"Zap\".\n",
    "If it is a multiple of both three and five, display \"Zoom\".\n",
    "If it does not satisfy any of the above given conditions, display \"Invalid\".\n"
   ]
  },
  {
   "cell_type": "markdown",
   "id": "a4c53558",
   "metadata": {},
   "source": [
    "### Problem 9"
   ]
  },
  {
   "cell_type": "code",
   "execution_count": null,
   "metadata": {
    "id": "9JVvSoCNvU_K"
   },
   "outputs": [],
   "source": [
    "x= int(input('Enter a number :'))\n",
    "\n",
    "if x % 3 == 0:\n",
    "  if x % 5 == 0:\n",
    "    print('Zoom')\n",
    "  else:\n",
    "    print('Zip')\n",
    "elif x % 5 == 0:\n",
    "  print('Zap')\n",
    "else:\n",
    "  print('Invalid')\n",
    "\n"
   ]
  },
  {
   "cell_type": "markdown",
   "metadata": {
    "id": "kB3TfS4ozYRf"
   },
   "source": []
  },
  {
   "cell_type": "markdown",
   "metadata": {
    "id": "q40kmLgzzgiA"
   },
   "source": [
    "User will input (3ages).Find the oldest one"
   ]
  },
  {
   "cell_type": "markdown",
   "id": "87f06cb0",
   "metadata": {},
   "source": [
    "### Problem 10"
   ]
  },
  {
   "cell_type": "code",
   "execution_count": null,
   "metadata": {
    "id": "Lkw2vEpruZ6R"
   },
   "outputs": [],
   "source": [
    "x,y,z=4,8,3\n",
    "if float(x) > float(y) and float(x) > float(z) :\n",
    "  print(f'oldest number : {x}')\n",
    "elif float(y) > float(z):\n",
    "  print(f'oldest number : {y}')\n",
    "else:\n",
    "  print(f'oldest number : {z}')"
   ]
  },
  {
   "cell_type": "markdown",
   "metadata": {
    "id": "yM3aUGWY1upu"
   },
   "source": [
    "Write a program that will convert celsius value to fahrenheit\n"
   ]
  },
  {
   "cell_type": "markdown",
   "id": "0e7b7982",
   "metadata": {},
   "source": [
    "### Problem 11"
   ]
  },
  {
   "cell_type": "code",
   "execution_count": null,
   "metadata": {
    "id": "l4ruvWer1v1Y"
   },
   "outputs": [],
   "source": [
    "x = float(input('enter celsius value:'))\n",
    "print('farenheit : ',(9/5*x)+32)"
   ]
  },
  {
   "cell_type": "markdown",
   "metadata": {
    "id": "uQnxcwbN2YZH"
   },
   "source": [
    "User will input (2numbers).Write a program to swap the numbers\n"
   ]
  },
  {
   "cell_type": "markdown",
   "id": "87412628",
   "metadata": {},
   "source": [
    "### Problem 12"
   ]
  },
  {
   "cell_type": "code",
   "execution_count": null,
   "metadata": {
    "id": "YwNbtX1r1ETN"
   },
   "outputs": [],
   "source": [
    "x,y = 10,11\n",
    "y,x =x,y\n",
    "print(x,y)\n"
   ]
  },
  {
   "cell_type": "markdown",
   "metadata": {
    "id": "ZgPA8z65mvdz"
   },
   "source": [
    "4.\tWrite a program that will give you the sum of 3 digits"
   ]
  },
  {
   "cell_type": "markdown",
   "id": "a4e44e5b",
   "metadata": {},
   "source": [
    "### Problem 13"
   ]
  },
  {
   "cell_type": "code",
   "execution_count": null,
   "metadata": {
    "id": "aNmXemP924ag"
   },
   "outputs": [],
   "source": [
    "def sum(a,b,c):\n",
    "  return a+b+c\n",
    "print(sum(1,2,3))"
   ]
  },
  {
   "cell_type": "markdown",
   "metadata": {
    "id": "B4pQnI5Nv5r6"
   },
   "source": [
    "5.\tWrite a program that will reverse a four digit number.Also it checks whether the reverse is true"
   ]
  },
  {
   "cell_type": "markdown",
   "id": "cd1a0d0f",
   "metadata": {},
   "source": [
    "### Problem 14"
   ]
  },
  {
   "cell_type": "code",
   "execution_count": null,
   "metadata": {
    "id": "NWPphdcHm6i2"
   },
   "outputs": [],
   "source": [
    "def reverse(a):\n",
    "  d=len(str(a))\n",
    "  C=0\n",
    "  for i in range(d):\n",
    "   b=a%10\n",
    "   C=C+b*10**(len(range(d))-1-i)\n",
    "   a=a//10\n",
    "  return C\n",
    "print(reverse(12564))"
   ]
  },
  {
   "cell_type": "markdown",
   "id": "1b6de1c9",
   "metadata": {},
   "source": [
    "### Problem 15"
   ]
  },
  {
   "cell_type": "code",
   "execution_count": null,
   "metadata": {
    "id": "N3pEi5yeoLFn"
   },
   "outputs": [],
   "source": [
    "print(int(str('1234')[::-1]))"
   ]
  },
  {
   "cell_type": "markdown",
   "metadata": {
    "id": "j5qaHEqexdC7"
   },
   "source": [
    "6.\tWrite a program that will tell whether the number entered by the user is odd or even."
   ]
  },
  {
   "cell_type": "markdown",
   "id": "34ae930f",
   "metadata": {},
   "source": [
    "### Problem 16"
   ]
  },
  {
   "cell_type": "code",
   "execution_count": null,
   "metadata": {
    "id": "ZlLnWstGoNE_"
   },
   "outputs": [],
   "source": [
    "def odd_even(a):\n",
    "  print('even' if a%2==0 else 'odd' )\n",
    "odd_even(1001)"
   ]
  },
  {
   "cell_type": "markdown",
   "id": "04695596",
   "metadata": {},
   "source": [
    "### Problem 17"
   ]
  },
  {
   "cell_type": "code",
   "execution_count": null,
   "metadata": {
    "id": "4-AYgH6JxxTD"
   },
   "outputs": [],
   "source": [
    "def leap_year(a):\n",
    "  if a % 4 == 0:\n",
    "    if a % 100 != 0:\n",
    "      print('Leap year')\n",
    "    elif a % 400 == 0:\n",
    "      print('Leap year')\n",
    "    else:\n",
    "      print('Non leap year')\n",
    "  else:\n",
    "    print('Non leap year')\n",
    "\n",
    "leap_year(2204)"
   ]
  },
  {
   "cell_type": "markdown",
   "metadata": {
    "id": "Mpf2GsweqIXP"
   },
   "source": [
    "7. 7.\tWrite a program that will tell whether the given year is a leap year or not ?"
   ]
  },
  {
   "cell_type": "markdown",
   "id": "142e60fb",
   "metadata": {},
   "source": [
    "### Problem 18"
   ]
  },
  {
   "cell_type": "code",
   "execution_count": null,
   "metadata": {
    "id": "EYg4TVBd0L6U"
   },
   "outputs": [],
   "source": [
    "def leap_year(a):\n",
    "    print('Leap year' if (a % 4 == 0 and (a % 100 != 0 or a % 400 == 0)) else 'Non leap year')\n"
   ]
  },
  {
   "cell_type": "markdown",
   "metadata": {
    "id": "t9tJJkLY2z9P"
   },
   "source": [
    "8.\tWrite a program to find the euclidean distance between two coordinates."
   ]
  },
  {
   "cell_type": "markdown",
   "id": "7b253ce6",
   "metadata": {},
   "source": [
    "### Problem 19"
   ]
  },
  {
   "cell_type": "code",
   "execution_count": null,
   "metadata": {
    "id": "K2mT2gNh2r4p"
   },
   "outputs": [],
   "source": [
    "import numpy as np\n",
    "x1,y1 = 2,3\n",
    "x2,y2 = 2,5\n",
    "\n",
    "d = np.sqrt((x2-x1)**2+(y2-y1)**2)\n",
    "print(d)"
   ]
  },
  {
   "cell_type": "markdown",
   "metadata": {
    "id": "lVm3BqD8qSIP"
   },
   "source": [
    "11.\tWrite a program to find the simple interest when the value of principle,rate of interest and time period is given."
   ]
  },
  {
   "cell_type": "markdown",
   "id": "7bfa4833",
   "metadata": {},
   "source": [
    "### Problem 20"
   ]
  },
  {
   "cell_type": "code",
   "execution_count": null,
   "metadata": {
    "id": "mo_GL65r3VMe"
   },
   "outputs": [],
   "source": [
    "P = 10000\n",
    "N = 2.3\n",
    "R = 0.05\n",
    "\n",
    "In = (P*N*R) / 100\n",
    "In"
   ]
  },
  {
   "cell_type": "markdown",
   "metadata": {
    "id": "fGxy2jvZp6Wp"
   },
   "source": [
    "12.\tWrite a program to find the volume of the cylinder. Also find the cost when ,when the cost of 1litre milk is 40Rs"
   ]
  },
  {
   "cell_type": "markdown",
   "id": "582d0812",
   "metadata": {},
   "source": [
    "### Problem 21"
   ]
  },
  {
   "cell_type": "code",
   "execution_count": null,
   "metadata": {
    "id": "75L0aL5I3WP4"
   },
   "outputs": [],
   "source": [
    "import numpy as np\n",
    "import pandas as pd\n",
    "\n",
    "length_cylinder = 1000\n",
    "radius_cylinder = 20\n",
    "\n",
    "Volume_cylinder = np.pi * (radius_cylinder)**2 * length_cylinder\n",
    "print('Volume of cylinder is {}'.format(Volume_cylinder))\n",
    "\n"
   ]
  },
  {
   "cell_type": "markdown",
   "metadata": {
    "id": "3lmbEkHVr46m"
   },
   "source": [
    "13.\tWrite  a program that will tell whether the given number is divisible by 3 & 6."
   ]
  },
  {
   "cell_type": "markdown",
   "id": "bbadebe7",
   "metadata": {},
   "source": [
    "### Problem 22"
   ]
  },
  {
   "cell_type": "code",
   "execution_count": null,
   "metadata": {
    "id": "NqeDt0dEr4mm"
   },
   "outputs": [],
   "source": [
    "n= 12\n",
    "print('Number is divisible by 3 and 6' if n%6 == 0 else 'Number is not divisible by 3 and 6 ')"
   ]
  },
  {
   "cell_type": "markdown",
   "metadata": {
    "id": "EiuCM3j3tiPq"
   },
   "source": [
    "Calculate the angle between the hour hand and minute hand.\n",
    "\n",
    "Note: There can be two angles between hands; we need to print a minimum of two. Also, we need to print the floor of the final result angle. For example, if the final angle is 10.61, we need to print 10."
   ]
  },
  {
   "cell_type": "markdown",
   "id": "a0669db7",
   "metadata": {},
   "source": [
    "### Problem 23"
   ]
  },
  {
   "cell_type": "code",
   "execution_count": null,
   "metadata": {
    "id": "U3oN7bjoq_ap"
   },
   "outputs": [],
   "source": [
    "import numpy as np\n",
    "\n",
    "min_hand_time = 30\n",
    "hr_hand_time = 4\n",
    "\n",
    "angle_hr = 30 * hr_hand_time  # Hour hand moves 30 degrees per hour\n",
    "angle_min = 6 * min_hand_time  # Minute hand moves 6 degrees per minute\n",
    "\n",
    "y = np.abs(angle_hr - angle_min)  # Take the absolute difference first\n",
    "min_angle = min(y, 360 - y)  # Choose the minimum angle\n",
    "\n",
    "print('Angle between minute hand and hour hand is', np.floor(min_angle))  # Floor the result\n"
   ]
  },
  {
   "cell_type": "markdown",
   "metadata": {
    "id": "2YX7Qt5Ry-O0"
   },
   "source": [
    "17.\tWrite a program that will take three digits from the user and add the square of each digit."
   ]
  },
  {
   "cell_type": "markdown",
   "id": "ec2a57ad",
   "metadata": {},
   "source": [
    "### Problem 24"
   ]
  },
  {
   "cell_type": "code",
   "execution_count": null,
   "metadata": {
    "id": "CgWlPW-mrAXJ"
   },
   "outputs": [],
   "source": [
    "x1= float(input('enter 1st digit :'))\n",
    "x2= float(input('enter 2nd digit :'))\n",
    "x3= float(input('enter 3rd digit :'))\n",
    "\n",
    "print('sum of squares of 3 given digits is {}'.format(x1**2+x2**2+x3**2))"
   ]
  },
  {
   "cell_type": "markdown",
   "metadata": {
    "id": "lCVW96iBzzMD"
   },
   "source": [
    "18.\tWrite a program that will check whether the number is armstrong number or not."
   ]
  },
  {
   "cell_type": "markdown",
   "id": "546d4e8e",
   "metadata": {},
   "source": [
    "### Problem 25"
   ]
  },
  {
   "cell_type": "code",
   "execution_count": null,
   "metadata": {
    "id": "H8srn-ojwyut"
   },
   "outputs": [],
   "source": [
    "x=input('enter a number ')\n",
    "\n",
    "s=0\n",
    "\n",
    "for i in x:\n",
    "  s+=int(i)**int(len(x))\n",
    "\n",
    "print('Number is armstrong' if s == int(x) else 'Number is not armstrong')"
   ]
  },
  {
   "cell_type": "markdown",
   "metadata": {
    "id": "p8k_fIdPdUVh"
   },
   "source": [
    "21.\tWrite a menu driven program -\n",
    "    1.cm to ft  \n",
    "    2.kl to miles  \n",
    "    3.usd to inr  \n",
    "    4.exit"
   ]
  },
  {
   "cell_type": "markdown",
   "id": "0c11d387",
   "metadata": {},
   "source": [
    "### Problem 26"
   ]
  },
  {
   "cell_type": "code",
   "execution_count": null,
   "metadata": {
    "id": "o3TgKlkI1VDw"
   },
   "outputs": [],
   "source": [
    "\n",
    "while True :\n",
    "    print('''Select Menu :\n",
    "                  1. cm to ft\n",
    "                  2. km to miles\n",
    "                  3. usd to inr\n",
    "                  4. Exit ''')\n",
    "\n",
    "    n = int(input('Number :' ))\n",
    "\n",
    "\n",
    "    def cm_to_ft(x):\n",
    "      print('Feet :',x*(1/30) ,'ft')\n",
    "\n",
    "    def km_to_miles(x):\n",
    "      print('miles :',x*(0.6213), 'm')\n",
    "\n",
    "    def usd_to_inr(x):\n",
    "      print(' INR : Rs ', x*(87.58))\n",
    "\n",
    "    if n ==1 :\n",
    "      x = float (input('Enter input for conversion :'))\n",
    "      cm_to_ft(x)\n",
    "    elif n==2 :\n",
    "      x = float (input('Enter input for conversion :'))\n",
    "      km_to_miles(x)\n",
    "    elif n==3 :\n",
    "      x = float (input('Enter input for conversion :'))\n",
    "      usd_to_inr(x)\n",
    "    elif n==4:\n",
    "      print('Exit selected')\n",
    "      break\n",
    "    else:\n",
    "      print('Invalid choice selected')\n"
   ]
  },
  {
   "cell_type": "markdown",
   "metadata": {
    "id": "DoTbZV0Rj_or"
   },
   "source": [
    "23.\tWrite a program that will swap numbers"
   ]
  },
  {
   "cell_type": "markdown",
   "id": "7d534903",
   "metadata": {},
   "source": [
    "### Problem 27"
   ]
  },
  {
   "cell_type": "code",
   "execution_count": null,
   "metadata": {
    "id": "TKXLP05FfCcl"
   },
   "outputs": [],
   "source": [
    "x=input('Enter a number to swap :')\n",
    "print('Number after swap :',x[::-1])\n"
   ]
  },
  {
   "cell_type": "markdown",
   "metadata": {
    "id": "3tiWrCc9kDaQ"
   },
   "source": [
    "24.\tWrite a program to find the sum of first n numbers, where n will be provided by the user. Eg if the user provides n=10 the output should be 55"
   ]
  },
  {
   "cell_type": "markdown",
   "id": "ce8a529c",
   "metadata": {},
   "source": [
    "### Problem 28"
   ]
  },
  {
   "cell_type": "code",
   "execution_count": null,
   "metadata": {
    "id": "f1OzgEkskDFF"
   },
   "outputs": [],
   "source": [
    "x=int(input('Enter a number :'))\n",
    "sum=0\n",
    "for i in range(1,x+1):\n",
    "  sum+=i\n",
    "\n",
    "print('sum of 1st {} numbers :'.format(x),sum)"
   ]
  },
  {
   "cell_type": "markdown",
   "metadata": {
    "id": "_cowDcYNlyBQ"
   },
   "source": [
    "25.\tWrite a program that can multiply 2 numbers provided by the user without using the * operator"
   ]
  },
  {
   "cell_type": "markdown",
   "id": "2a59460c",
   "metadata": {},
   "source": [
    "### Problem 29"
   ]
  },
  {
   "cell_type": "code",
   "execution_count": null,
   "metadata": {
    "id": "LCydK5TkiUxJ"
   },
   "outputs": [],
   "source": [
    "x=int(input('enter a 1st number :'))\n",
    "y=int(input(' enter 2nd number :'))\n",
    "s=0\n",
    "for i in range(y):\n",
    "  s+=x\n",
    "print('multiplication :',s)\n"
   ]
  },
  {
   "cell_type": "markdown",
   "metadata": {
    "id": "zjnsshXRsmlf"
   },
   "source": [
    "31.\tWrite a program to print all the unique combinations of 1,2,3 and 4"
   ]
  },
  {
   "cell_type": "markdown",
   "id": "8fbe531d",
   "metadata": {},
   "source": [
    "### Problem 30"
   ]
  },
  {
   "cell_type": "code",
   "execution_count": null,
   "metadata": {
    "colab": {
     "base_uri": "https://localhost:8080/"
    },
    "id": "wEVqMOCdmSev",
    "outputId": "9cbc501a-2e4a-4bc7-bd8a-5a527cce63c8"
   },
   "outputs": [
    {
     "name": "stdout",
     "output_type": "stream",
     "text": [
      "[[(1,), (2,), (3,), (4,)], [(1, 2), (1, 3), (1, 4), (2, 3), (2, 4), (3, 4)], [(1, 2, 3), (1, 2, 4), (1, 3, 4), (2, 3, 4)], [(1, 2, 3, 4)]]\n"
     ]
    }
   ],
   "source": [
    "from itertools import permutations, combinations\n",
    "l=[]\n",
    "numbers=[1,2,3,4]\n",
    "\n",
    "for i in range(1,len(numbers)+1):\n",
    "  l.append(list(combinations(numbers,i)))\n",
    "print(l)"
   ]
  },
  {
   "cell_type": "markdown",
   "metadata": {
    "id": "mTKfnGnky8fc"
   },
   "source": [
    "33.\tUser will provide 2 numbers you have to find the by LCM of those 2 numbers"
   ]
  },
  {
   "cell_type": "markdown",
   "id": "ad991f5c",
   "metadata": {},
   "source": [
    "### Problem 31"
   ]
  },
  {
   "cell_type": "code",
   "execution_count": null,
   "metadata": {
    "colab": {
     "base_uri": "https://localhost:8080/"
    },
    "id": "3E4jNnr_u8En",
    "outputId": "15ef88ac-fef5-4c90-e264-9517072380df"
   },
   "outputs": [
    {
     "name": "stdout",
     "output_type": "stream",
     "text": [
      "LCM is : 24\n"
     ]
    }
   ],
   "source": [
    "num1=8\n",
    "num2=12\n",
    "\n",
    "for i in range(min(num1,num2),num1*num2+1,min(num1,num2)):\n",
    "  if i% num2 == 0:\n",
    "    print('LCM is :',i)\n",
    "    break\n"
   ]
  },
  {
   "cell_type": "markdown",
   "metadata": {
    "id": "GfmbJzi19C4E"
   },
   "source": [
    "34.\tPrint first 25 prime numbers"
   ]
  },
  {
   "cell_type": "markdown",
   "id": "a2d30601",
   "metadata": {},
   "source": [
    "### Problem 32"
   ]
  },
  {
   "cell_type": "code",
   "execution_count": null,
   "metadata": {
    "colab": {
     "base_uri": "https://localhost:8080/"
    },
    "id": "KY2q2d0hv3or",
    "outputId": "01c8bfb9-1104-4744-d6e4-ed24ee783239"
   },
   "outputs": [
    {
     "name": "stdout",
     "output_type": "stream",
     "text": [
      "Number is not prime\n"
     ]
    }
   ],
   "source": [
    "n=1\n",
    "\n",
    "if n >2:\n",
    "  for i in range(2,n):\n",
    "    if n%i == 0:\n",
    "      print('Number is not prime')\n",
    "      break\n",
    "  else:\n",
    "    print('Number is prime')\n",
    "else:\n",
    "  print('Number is not prime')\n"
   ]
  },
  {
   "cell_type": "markdown",
   "metadata": {
    "id": "Ar6Dz8uIICgc"
   },
   "source": [
    "35.\tPrint the first 20 numbers of a Fibonacci series"
   ]
  },
  {
   "cell_type": "markdown",
   "id": "3a533996",
   "metadata": {},
   "source": [
    "### Problem 33"
   ]
  },
  {
   "cell_type": "code",
   "execution_count": null,
   "metadata": {
    "colab": {
     "base_uri": "https://localhost:8080/"
    },
    "id": "uMg3slC4z7G9",
    "outputId": "40d1e4cc-9a9a-4195-e562-249e594ed278"
   },
   "outputs": [
    {
     "data": {
      "text/plain": [
       "20"
      ]
     },
     "execution_count": 38,
     "metadata": {},
     "output_type": "execute_result"
    }
   ],
   "source": [
    "f=[0,1]\n",
    "n=20                  # first n numbers\n",
    "#L = 0,1,1,2,3,5,8\n",
    "for i in range(n-2):\n",
    "  f.append(f[-1]+f[-2])\n",
    "len(f)\n"
   ]
  },
  {
   "cell_type": "markdown",
   "id": "c33618a5",
   "metadata": {},
   "source": [
    "### Problem 34"
   ]
  },
  {
   "cell_type": "code",
   "execution_count": null,
   "metadata": {
    "id": "UR8kCogNME3G"
   },
   "outputs": [],
   "source": []
  },
  {
   "cell_type": "markdown",
   "metadata": {
    "id": "kGzPrE3cMhQl"
   },
   "source": [
    "37.\tWrite a Python program that accepts an integer (n) and computes the value of n+nn+nnn+...till nnn..ntimes"
   ]
  },
  {
   "cell_type": "markdown",
   "id": "c098e534",
   "metadata": {},
   "source": [
    "### Problem 35"
   ]
  },
  {
   "cell_type": "code",
   "execution_count": null,
   "metadata": {
    "colab": {
     "base_uri": "https://localhost:8080/"
    },
    "id": "R_792N35Jzwq",
    "outputId": "2ae8c986-b914-4f82-e25d-c0e4a56d23ac"
   },
   "outputs": [
    {
     "name": "stdout",
     "output_type": "stream",
     "text": [
      "sum of n+nn+nnn+... is 61725\n"
     ]
    }
   ],
   "source": [
    "n = 5\n",
    "sum=0\n",
    "for i in range(1,n+1):\n",
    "  sum+=int(str(n)*i)\n",
    "print(f'sum of n+nn+nnn+... is {sum}')"
   ]
  },
  {
   "cell_type": "markdown",
   "metadata": {
    "id": "IvHmxWYANIkJ"
   },
   "source": [
    "39.\tPrint all factors of a given number provided by the user"
   ]
  },
  {
   "cell_type": "markdown",
   "id": "5a0aa6db",
   "metadata": {},
   "source": [
    "### Problem 36"
   ]
  },
  {
   "cell_type": "code",
   "execution_count": null,
   "metadata": {
    "colab": {
     "base_uri": "https://localhost:8080/"
    },
    "id": "GUUh4o1sNF_T",
    "outputId": "6989ffa3-7b39-45bc-bc8a-577efbec10b1"
   },
   "outputs": [
    {
     "name": "stdout",
     "output_type": "stream",
     "text": [
      "[1, 3, 5, 9, 15, 45]\n"
     ]
    }
   ],
   "source": [
    "n=45\n",
    "l=[]\n",
    "for i in range(1,n+1):\n",
    "  if n%i==0:\n",
    "    l.append(i)\n",
    "print(l)\n"
   ]
  },
  {
   "cell_type": "markdown",
   "metadata": {
    "id": "tNFK0tBrNy-7"
   },
   "source": [
    "40.\tFind the reverse of a number provided by the user(any number of digit)"
   ]
  },
  {
   "cell_type": "markdown",
   "id": "5121437e",
   "metadata": {},
   "source": [
    "### Problem 37"
   ]
  },
  {
   "cell_type": "code",
   "execution_count": null,
   "metadata": {
    "colab": {
     "base_uri": "https://localhost:8080/"
    },
    "id": "p8fJloB8MGpb",
    "outputId": "edc1347b-015f-4885-afb9-5866103e7b95"
   },
   "outputs": [
    {
     "name": "stdout",
     "output_type": "stream",
     "text": [
      "4321\n"
     ]
    }
   ],
   "source": [
    "n=1234\n",
    "print(str(n)[::-1])"
   ]
  },
  {
   "cell_type": "markdown",
   "metadata": {
    "id": "TxgoyglMtCRN"
   },
   "source": [
    "![image.png](data:image/png;base64,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)\n"
   ]
  },
  {
   "cell_type": "markdown",
   "id": "e5aff9e2",
   "metadata": {},
   "source": [
    "### Problem 38"
   ]
  },
  {
   "cell_type": "code",
   "execution_count": null,
   "metadata": {
    "colab": {
     "base_uri": "https://localhost:8080/"
    },
    "id": "1XxZ5spOMJB6",
    "outputId": "2d429845-229e-40da-903b-6ad7df0989a5"
   },
   "outputs": [
    {
     "name": "stdout",
     "output_type": "stream",
     "text": [
      "*\n",
      "**\n",
      "***\n",
      "****\n",
      "*****\n"
     ]
    }
   ],
   "source": [
    "for i in range(1,6):\n",
    "  print('*'*i)\n",
    "\n"
   ]
  },
  {
   "cell_type": "markdown",
   "metadata": {
    "id": "RNtzCEqpugnL"
   },
   "source": [
    "![image.png](data:image/png;base64,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)"
   ]
  },
  {
   "cell_type": "markdown",
   "id": "19f618ac",
   "metadata": {},
   "source": [
    "### Problem 39"
   ]
  },
  {
   "cell_type": "code",
   "execution_count": null,
   "metadata": {
    "colab": {
     "base_uri": "https://localhost:8080/"
    },
    "id": "IdfMJecjuHTl",
    "outputId": "56a1a6fe-16f8-47f0-cfe2-2502872ab485"
   },
   "outputs": [
    {
     "name": "stdout",
     "output_type": "stream",
     "text": [
      "*\n",
      "**\n",
      "***\n",
      "****\n",
      "***\n",
      "**\n",
      "*\n"
     ]
    }
   ],
   "source": [
    "n=3\n",
    "for i in range(1,n+1):\n",
    "  print('*'*i)\n",
    "\n",
    "for i in range(n+1,0,-1):\n",
    "  print('*'*i)\n"
   ]
  },
  {
   "cell_type": "markdown",
   "metadata": {
    "id": "Xi2qQslvygJI"
   },
   "source": [
    "![image.png](data:image/png;base64,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)"
   ]
  },
  {
   "cell_type": "markdown",
   "metadata": {
    "id": "WDxkl2C_m0ac"
   },
   "source": [
    "![image.png](data:image/png;base64,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)"
   ]
  },
  {
   "cell_type": "markdown",
   "id": "a0fe94b1",
   "metadata": {},
   "source": [
    "### Problem 40"
   ]
  },
  {
   "cell_type": "code",
   "execution_count": null,
   "metadata": {
    "colab": {
     "base_uri": "https://localhost:8080/"
    },
    "id": "XpnH6U-0ySl4",
    "outputId": "40c7230d-d9b5-4dac-be8d-123b843aa081"
   },
   "outputs": [
    {
     "name": "stdout",
     "output_type": "stream",
     "text": [
      "    *\n",
      "   ***\n",
      "  *****\n",
      " *******\n",
      "*********\n"
     ]
    }
   ],
   "source": [
    "n=5\n",
    "\n",
    "for i in range(1,n+1):\n",
    "  print(\" \"*(n-i),end='')\n",
    "  print('*'*(2*i-1))\n"
   ]
  },
  {
   "cell_type": "markdown",
   "metadata": {
    "id": "LxMKZB3Eovuc"
   },
   "source": [
    "![image.png](data:image/png;base64,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)"
   ]
  },
  {
   "cell_type": "markdown",
   "id": "8f965dd2",
   "metadata": {},
   "source": [
    "### Problem 41"
   ]
  },
  {
   "cell_type": "code",
   "execution_count": null,
   "metadata": {
    "colab": {
     "base_uri": "https://localhost:8080/"
    },
    "id": "l9h2gQy0n56n",
    "outputId": "c5ea90b0-cf58-4bf2-cc89-02dbd9ee7174"
   },
   "outputs": [
    {
     "name": "stdout",
     "output_type": "stream",
     "text": [
      "1\n",
      "121\n",
      "12321\n",
      "1234321\n",
      "123454321\n"
     ]
    }
   ],
   "source": [
    "n='12345'\n",
    "\n",
    "\n",
    "for i in range(0,len(n)):\n",
    "  print(n[:i],end='')\n",
    "  print(n[i::-1])\n"
   ]
  },
  {
   "cell_type": "markdown",
   "metadata": {
    "id": "M1RAeKQiu1Oi"
   },
   "source": [
    "![image.png](data:image/png;base64,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)"
   ]
  },
  {
   "cell_type": "markdown",
   "id": "1826fb4c",
   "metadata": {},
   "source": [
    "### Problem 42"
   ]
  },
  {
   "cell_type": "code",
   "execution_count": null,
   "metadata": {
    "colab": {
     "base_uri": "https://localhost:8080/"
    },
    "id": "SRWMsPxmpNQM",
    "outputId": "e2932ede-0aae-4146-a832-470877131973"
   },
   "outputs": [
    {
     "name": "stdout",
     "output_type": "stream",
     "text": [
      "[1]\n",
      "[2, 3]\n",
      "[4, 5, 6]\n",
      "[7, 8, 9, 10]\n"
     ]
    }
   ],
   "source": [
    "L='12345678920'\n",
    "for i in range(1,5):\n",
    "  print(L[:i])\n",
    "  L=L[i:]\n",
    "\n"
   ]
  },
  {
   "cell_type": "markdown",
   "metadata": {
    "id": "PrBdtsMntMuI"
   },
   "source": [
    "Write a program that keeps on accepting a number from the user until the user enters Zero. Display the sum and average of all the numbers"
   ]
  },
  {
   "cell_type": "markdown",
   "id": "1a5edf4e",
   "metadata": {},
   "source": [
    "### Problem 43"
   ]
  },
  {
   "cell_type": "code",
   "execution_count": null,
   "metadata": {
    "colab": {
     "base_uri": "https://localhost:8080/"
    },
    "id": "u1sxyS-xvJj-",
    "outputId": "56f653be-910f-47a7-dea8-0a5951a010f4"
   },
   "outputs": [
    {
     "name": "stdout",
     "output_type": "stream",
     "text": [
      "Enter a number :2\n",
      "Enter a number :8\n",
      "Enter a number :2\n",
      "Enter a number :.\n",
      "Invalid input ! , plz enter an integer \n",
      "Enter a number :0\n",
      "total: 12.0, average:3.0\n"
     ]
    }
   ],
   "source": [
    "\n",
    "L=[]\n",
    "x=1\n",
    "\n",
    "while x != 0:\n",
    "\n",
    "  try:\n",
    "    x = float(input('Enter a number :'))\n",
    "    L.append(x)\n",
    "\n",
    "  except ValueError:\n",
    "    print('Invalid input ! , plz enter an integer ')\n",
    "\n",
    "\n",
    "\n",
    "total = sum(L)\n",
    "avg = sum(L) / len(L)\n",
    "\n",
    "print(f'total: {total}, average:{avg}')"
   ]
  },
  {
   "cell_type": "markdown",
   "metadata": {
    "id": "bQb1v2P7xs4O"
   },
   "source": [
    "Write a program that accepts 2 numbers from the user a numerator and a denominator and then simplifies it"
   ]
  },
  {
   "cell_type": "markdown",
   "id": "08cb6201",
   "metadata": {},
   "source": [
    "### Problem 44"
   ]
  },
  {
   "cell_type": "code",
   "execution_count": null,
   "metadata": {
    "colab": {
     "base_uri": "https://localhost:8080/"
    },
    "id": "atP8IbVPuLw8",
    "outputId": "c343abed-8386-416e-dacd-55a733d9f9a3"
   },
   "outputs": [
    {
     "name": "stdout",
     "output_type": "stream",
     "text": [
      "enter a numerator15\n",
      "enter a denominator25\n",
      "[3, 5]\n",
      "[5, 5]\n",
      "simplified version : 3 / 5\n"
     ]
    }
   ],
   "source": [
    "num=int(input('enter a numerator'))\n",
    "den =int(input('enter a denominator'))\n",
    "\n",
    "L1=[]\n",
    "L2=[]\n",
    "# factorials of numerator\n",
    "\n",
    "i=2\n",
    "while i <= num:\n",
    "  if num % i ==0 :\n",
    "    num=num/i\n",
    "    L1.append(i)\n",
    "    i=2\n",
    "  else:\n",
    "    i+=1\n",
    "print(L1)\n",
    "\n",
    "# factorials of denominator\n",
    "\n",
    "i=2\n",
    "while i <= den:\n",
    "  if den % i ==0 :\n",
    "    den=den/i\n",
    "    L2.append(i)\n",
    "    i=2\n",
    "  else:\n",
    "    i+=1\n",
    "print(L2)\n",
    "\n",
    "if len(L1) <= len(L2):\n",
    "  for i in range(len(L1)):\n",
    "    if L1[i] in L2:\n",
    "      a=L1[i]\n",
    "      L1.remove(a)\n",
    "      L2.remove(a)\n",
    "else:\n",
    "  for i in range(len(L2)):\n",
    "    if L2[i] in L1:\n",
    "      b=L2[i]\n",
    "      L1.remove(b)\n",
    "      L2.remove(b)\n",
    "\n",
    "multiL1 = 1\n",
    "\n",
    "for i in L1:\n",
    "  multiL1*=i\n",
    "\n",
    "multiL2 = 1\n",
    "\n",
    "for i in L2:\n",
    "  multiL2*=i\n",
    "\n",
    "print(f\"simplified version : {multiL1} / {multiL2}\")"
   ]
  },
  {
   "cell_type": "markdown",
   "id": "a908c7a0",
   "metadata": {},
   "source": [
    "### Problem 45"
   ]
  },
  {
   "cell_type": "code",
   "execution_count": null,
   "metadata": {
    "colab": {
     "base_uri": "https://localhost:8080/"
    },
    "id": "L6UEOxXJunNL",
    "outputId": "ccbe65e3-fbf0-447f-cecd-f1023a6b3248"
   },
   "outputs": [
    {
     "name": "stdout",
     "output_type": "stream",
     "text": [
      "Enter a numerator: -3\n",
      "Enter a denominator: 33\n",
      "Original fraction: -3/33\n",
      "Simplified version: -1/11\n"
     ]
    }
   ],
   "source": [
    "def prime_factors(n):\n",
    "    \"\"\"Return a list of prime factors of n.\"\"\"\n",
    "    factors = []\n",
    "    n = abs(n)  # Handle negative numbers\n",
    "    i = 2\n",
    "    while i * i <= n:  # Optimize by checking up to sqrt(n)\n",
    "        while n % i == 0:\n",
    "            factors.append(i)\n",
    "            n //= i\n",
    "        i += 1\n",
    "    if n > 1:  # If n is prime and > 1, append it\n",
    "        factors.append(n)\n",
    "    return factors\n",
    "\n",
    "def simplify_fraction(num, den):\n",
    "    \"\"\"Simplify the fraction num/den to lowest terms.\"\"\"\n",
    "    if den == 0:\n",
    "        raise ValueError(\"Denominator cannot be zero!\")\n",
    "\n",
    "    # Store sign and work with absolute values\n",
    "    sign = -1 if (num * den < 0) else 1\n",
    "    num, den = abs(num), abs(den)\n",
    "\n",
    "    # Get prime factors\n",
    "    L1 = prime_factors(num)\n",
    "    L2 = prime_factors(den)\n",
    "\n",
    "    # Cancel common factors\n",
    "    for factor in set(L1):  # Use set to avoid duplicates initially\n",
    "        while factor in L1 and factor in L2:\n",
    "            L1.remove(factor)\n",
    "            L2.remove(factor)\n",
    "\n",
    "    # Multiply remaining factors\n",
    "    multiL1 = 1\n",
    "    for i in L1:\n",
    "        multiL1 *= i\n",
    "\n",
    "    multiL2 = 1\n",
    "    for i in L2:\n",
    "        multiL2 *= i\n",
    "\n",
    "    # Apply sign to numerator\n",
    "    return sign * multiL1, multiL2\n",
    "\n",
    "# Main program\n",
    "try:\n",
    "    num = int(input(\"Enter a numerator: \"))\n",
    "    den = int(input(\"Enter a denominator: \"))\n",
    "\n",
    "    simplified_num, simplified_den = simplify_fraction(num, den)\n",
    "\n",
    "    print(f\"Original fraction: {num}/{den}\")\n",
    "    print(f\"Simplified version: {simplified_num}/{simplified_den}\")\n",
    "\n",
    "    if simplified_den == 1:\n",
    "        print(f\"As an integer: {simplified_num}\")\n",
    "\n",
    "except ValueError as e:\n",
    "    if str(e) == \"Denominator cannot be zero!\":\n",
    "        print(e)\n",
    "    else:\n",
    "        print(\"Invalid input! Please enter integers only.\")\n",
    "except Exception as e:\n",
    "    print(f\"An error occurred: {e}\")"
   ]
  },
  {
   "cell_type": "markdown",
   "metadata": {
    "id": "5tcocAu8N1Db"
   },
   "source": [
    "\tFind the length of a given string without using the len() function."
   ]
  },
  {
   "cell_type": "markdown",
   "id": "01351d75",
   "metadata": {},
   "source": [
    "### Problem 46"
   ]
  },
  {
   "cell_type": "code",
   "execution_count": null,
   "metadata": {
    "colab": {
     "base_uri": "https://localhost:8080/"
    },
    "id": "ICqkCiAU2Gc_",
    "outputId": "325e0218-2953-4d9e-b8eb-3ca465edf88f"
   },
   "outputs": [
    {
     "data": {
      "text/plain": [
       "37"
      ]
     },
     "execution_count": 9,
     "metadata": {},
     "output_type": "execute_result"
    }
   ],
   "source": [
    "def length(s):\n",
    "  count=0\n",
    "  for i in s:\n",
    "    count+=1\n",
    "  return count\n",
    "s = 'Currently I am doing coding in python'\n",
    "length(s)"
   ]
  },
  {
   "cell_type": "markdown",
   "metadata": {
    "id": "f2QQK3rEO5_z"
   },
   "source": [
    "Extract username from a given email.\n",
    "Eg if the email is kedarpatil@gmail.com then the username should be kedarpatil\n"
   ]
  },
  {
   "cell_type": "markdown",
   "id": "e90c909b",
   "metadata": {},
   "source": [
    "### Problem 47"
   ]
  },
  {
   "cell_type": "code",
   "execution_count": null,
   "metadata": {
    "colab": {
     "base_uri": "https://localhost:8080/",
     "height": 36
    },
    "id": "9zKt4ok03Lwx",
    "outputId": "d4d0d5d0-5450-423e-fa6e-ce561665982d"
   },
   "outputs": [
    {
     "data": {
      "application/vnd.google.colaboratory.intrinsic+json": {
       "type": "string"
      },
      "text/plain": [
       "'kedarpatil'"
      ]
     },
     "execution_count": 18,
     "metadata": {},
     "output_type": "execute_result"
    }
   ],
   "source": [
    "def username(gmail):\n",
    "  u=''\n",
    "  for i in gmail:\n",
    "    if i == '@':\n",
    "      break\n",
    "    u+=i\n",
    "  return(u)\n",
    "\n",
    "gmail='kedarpatil@gmail.com'\n",
    "username(gmail)\n"
   ]
  },
  {
   "cell_type": "markdown",
   "metadata": {
    "id": "oX8Q3xjyQSIl"
   },
   "source": [
    "Count the frequency of a particular character in a provided string. Eg 'hello how are you' is the string, the frequency of h in this string is 2."
   ]
  },
  {
   "cell_type": "markdown",
   "id": "104c61dd",
   "metadata": {},
   "source": [
    "### Problem 48"
   ]
  },
  {
   "cell_type": "code",
   "execution_count": null,
   "metadata": {
    "colab": {
     "base_uri": "https://localhost:8080/"
    },
    "id": "GzBib9V837b_",
    "outputId": "6e1d74dd-4348-4d89-f9af-a2f36c189995"
   },
   "outputs": [
    {
     "data": {
      "text/plain": [
       "2"
      ]
     },
     "execution_count": 20,
     "metadata": {},
     "output_type": "execute_result"
    }
   ],
   "source": [
    "def count(c,s):\n",
    "  count=0\n",
    "  for i in s:\n",
    "    if c == i:\n",
    "      count+=1\n",
    "  return count\n",
    "\n",
    "string='hello how are you'\n",
    "count('h',string)"
   ]
  },
  {
   "cell_type": "markdown",
   "metadata": {
    "id": "5XzFdH_ARraq"
   },
   "source": [
    "Find the index position of a particular character in another string."
   ]
  },
  {
   "cell_type": "markdown",
   "id": "064697c2",
   "metadata": {},
   "source": [
    "### Problem 49"
   ]
  },
  {
   "cell_type": "code",
   "execution_count": null,
   "metadata": {
    "colab": {
     "base_uri": "https://localhost:8080/"
    },
    "id": "kl8NtoJA4bdb",
    "outputId": "e00f57ab-67a9-4789-abce-003b030a10a6"
   },
   "outputs": [
    {
     "data": {
      "text/plain": [
       "0"
      ]
     },
     "execution_count": 26,
     "metadata": {},
     "output_type": "execute_result"
    }
   ],
   "source": [
    "def index_pos(c,s):\n",
    "  for i in range(len(s)):\n",
    "    if s[i] == c:\n",
    "      return i\n",
    "\n",
    "\n",
    "string='hello how are you'\n",
    "index_pos('h',string)\n"
   ]
  },
  {
   "cell_type": "markdown",
   "metadata": {
    "id": "H5o-udB2S6to"
   },
   "source": [
    "Count the number of vowels in a string provided by the user."
   ]
  },
  {
   "cell_type": "markdown",
   "id": "c9157f98",
   "metadata": {},
   "source": [
    "### Problem 50"
   ]
  },
  {
   "cell_type": "code",
   "execution_count": null,
   "metadata": {
    "colab": {
     "base_uri": "https://localhost:8080/"
    },
    "id": "OnQRQFhySdCu",
    "outputId": "a76a8ef4-6b4e-4425-83c3-7455220f62a8"
   },
   "outputs": [
    {
     "data": {
      "text/plain": [
       "7"
      ]
     },
     "execution_count": 27,
     "metadata": {},
     "output_type": "execute_result"
    }
   ],
   "source": [
    "def count_vovels(s):\n",
    "  count = 0\n",
    "  for i in s:\n",
    "    if i in ['a','e','i','o','u']:\n",
    "      count+=1\n",
    "  return count\n",
    "\n",
    "s = 'Hello, How are you ?'\n",
    "count_vovels(s)\n"
   ]
  },
  {
   "cell_type": "markdown",
   "metadata": {
    "id": "YE3j_oSPTn7L"
   },
   "source": [
    "Write a program which can remove a particular character from a string."
   ]
  },
  {
   "cell_type": "markdown",
   "id": "be720895",
   "metadata": {},
   "source": [
    "### Problem 51"
   ]
  },
  {
   "cell_type": "code",
   "execution_count": null,
   "metadata": {
    "colab": {
     "base_uri": "https://localhost:8080/",
     "height": 36
    },
    "id": "cOLLwUZkTe1I",
    "outputId": "81b307d1-abef-4cfc-9aae-c2e6bd597728"
   },
   "outputs": [
    {
     "data": {
      "application/vnd.google.colaboratory.intrinsic+json": {
       "type": "string"
      },
      "text/plain": [
       "'ello, ow are you ?'"
      ]
     },
     "execution_count": 30,
     "metadata": {},
     "output_type": "execute_result"
    }
   ],
   "source": [
    "def remove(c,s):\n",
    "  c = lowercase\n",
    "  ss =''\n",
    "  for i in s:\n",
    "    if i == c:\n",
    "      continue\n",
    "    ss+=i\n",
    "  return ss\n",
    "\n",
    "s = 'Hello, How are you ?'\n",
    "remove('H',s)"
   ]
  },
  {
   "cell_type": "markdown",
   "id": "67764f4d",
   "metadata": {},
   "source": [
    "### Problem 52"
   ]
  },
  {
   "cell_type": "code",
   "execution_count": null,
   "metadata": {
    "id": "qulWfxKmUg4h"
   },
   "outputs": [],
   "source": []
  }
 ],
 "metadata": {
  "colab": {
   "provenance": []
  },
  "kernelspec": {
   "display_name": "Python 3",
   "name": "python3"
  },
  "language_info": {
   "name": "python"
  }
 },
 "nbformat": 4,
 "nbformat_minor": 0
}
